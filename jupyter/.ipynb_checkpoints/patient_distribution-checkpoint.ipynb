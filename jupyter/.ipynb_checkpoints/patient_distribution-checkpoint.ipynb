{
 "cells": [
  {
   "cell_type": "code",
   "execution_count": 1,
   "id": "9e5480fd-f036-40ad-9c50-8f4898d70eb1",
   "metadata": {},
   "outputs": [],
   "source": [
    "import pandas as pd\n",
    "\n",
    "import os"
   ]
  },
  {
   "cell_type": "code",
   "execution_count": 2,
   "id": "d6ca6315-0a6d-4f84-9dcf-d00735c53b93",
   "metadata": {},
   "outputs": [],
   "source": [
    "exclude = ['018_019','018_033','018_038','018_056','018_069','018_089',\n",
    "           '018_091','018_102','018_117','018_120',\n",
    "           '018_126','018_128','018_130','018_131',\n",
    "           'ANON_016','ANON_023','ANON_027','018_011']"
   ]
  },
  {
   "cell_type": "code",
   "execution_count": 5,
   "id": "c97c0ee7-b64d-4321-8600-38007925d167",
   "metadata": {},
   "outputs": [],
   "source": [
    "late_labels = pd.read_csv(r\"D:\\extracteddata\\latelabels.csv\")\n",
    "early_labels = pd.read_csv(r\"D:\\extracteddata\\newlabels.csv\")\n",
    "parentdircontents = os.listdir(r\"D:\\extracteddata\")\n",
    "patients = [x for x in parentdircontents if all((os.path.isdir(os.path.join(r\"D:\\extracteddata\",x)),x not in exclude))]\n",
    "ohe_patient_chars = pd.read_csv(r\"D:\\H_N\\ohe_patient_char.csv\")"
   ]
  },
  {
   "cell_type": "code",
   "execution_count": 8,
   "id": "343593e3-7fda-4ad1-a8aa-99d750c06aee",
   "metadata": {},
   "outputs": [],
   "source": [
    "labelmap = {}\n",
    "for i,row in late_labels.iterrows():\n",
    "    if row['OLDID'] not in labelmap.keys():\n",
    "        labelmap[row['OLDID']] = row['ID']\n",
    "for i,row in early_labels.iterrows():\n",
    "    if row['OLDID'] not in labelmap.keys():\n",
    "        labelmap[row['OLDID']] = row['ID']"
   ]
  },
  {
   "cell_type": "code",
   "execution_count": 14,
   "id": "0fed60e0-0730-42cb-aaf6-1d5188098599",
   "metadata": {},
   "outputs": [],
   "source": [
    "patients_new = [pt if pt not in labelmap.keys() else labelmap[pt] for pt in patients]"
   ]
  },
  {
   "cell_type": "code",
   "execution_count": 21,
   "id": "acb96ebe-84be-4a57-b03c-d8b7e964aa1a",
   "metadata": {},
   "outputs": [],
   "source": [
    "pt_status = pd.DataFrame(columns=['ID','have_pt_chars','have_label_early','have_label_late'])"
   ]
  },
  {
   "cell_type": "code",
   "execution_count": 24,
   "id": "92186bfe-45e0-4ddd-ab84-1a140dd2e598",
   "metadata": {},
   "outputs": [],
   "source": [
    "pt_status['ID'] = patients_new\n",
    "pt_status['have_pt_chars'] = pt_status['ID'].apply(lambda x: x in ohe_patient_chars['ANON_ID'].to_list())\n",
    "pt_status['have_label_early'] = pt_status['ID'].apply(lambda x: x in early_labels['ID'].to_list())\n",
    "pt_status['have_label_late'] = pt_status['ID'].apply(lambda x: x in late_labels['ID'].to_list())"
   ]
  },
  {
   "cell_type": "code",
   "execution_count": 32,
   "id": "e1a90e41-a52d-4645-9014-89e8d86def8f",
   "metadata": {},
   "outputs": [],
   "source": [
    "pt_status = pt_status.join(ohe_patient_chars.set_index(\"ANON_ID\"),on=\"ID\")"
   ]
  },
  {
   "cell_type": "code",
   "execution_count": 34,
   "id": "3ce041c1-baed-4913-a387-e58af4d1c4a3",
   "metadata": {},
   "outputs": [],
   "source": [
    "pt_status.to_csv(\"patient_summary.csv\")"
   ]
  },
  {
   "cell_type": "code",
   "execution_count": null,
   "id": "aa9978e6-2a34-487d-8d71-56fac062aead",
   "metadata": {},
   "outputs": [],
   "source": []
  }
 ],
 "metadata": {
  "kernelspec": {
   "display_name": "Python 3 (ipykernel)",
   "language": "python",
   "name": "python3"
  },
  "language_info": {
   "codemirror_mode": {
    "name": "ipython",
    "version": 3
   },
   "file_extension": ".py",
   "mimetype": "text/x-python",
   "name": "python",
   "nbconvert_exporter": "python",
   "pygments_lexer": "ipython3",
   "version": "3.7.13"
  }
 },
 "nbformat": 4,
 "nbformat_minor": 5
}
