{
 "cells": [
  {
   "cell_type": "code",
   "execution_count": 1,
   "id": "e121ae0a-faf7-43ec-9719-37dc55f7c800",
   "metadata": {},
   "outputs": [],
   "source": [
    "import pandas as pd\n",
    "import numpy as np"
   ]
  },
  {
   "cell_type": "code",
   "execution_count": 2,
   "id": "15f809ab-80c1-4fa8-956a-470f30188e52",
   "metadata": {},
   "outputs": [],
   "source": [
    "results = pd.read_csv('dataval2.csv')"
   ]
  },
  {
   "cell_type": "code",
   "execution_count": 3,
   "id": "8128778f-d673-48f5-b70a-fe1d0cf28d6e",
   "metadata": {},
   "outputs": [],
   "source": [
    "patients = results['Patient Folder'].unique()"
   ]
  },
  {
   "cell_type": "code",
   "execution_count": 4,
   "id": "3dbf6977-22d4-48a5-89d2-9bd93d9de252",
   "metadata": {},
   "outputs": [
    {
     "data": {
      "text/plain": [
       "Index(['Patient Folder', 'imgfile', 'dosefile', 'ssfile', 'airdose_px',\n",
       "       'bodyair_%', 'imageID', 'notes'],\n",
       "      dtype='object')"
      ]
     },
     "execution_count": 4,
     "metadata": {},
     "output_type": "execute_result"
    }
   ],
   "source": [
    "results.columns"
   ]
  },
  {
   "cell_type": "code",
   "execution_count": 5,
   "id": "07481e52-1003-4587-930d-c1edbf8b5d12",
   "metadata": {},
   "outputs": [],
   "source": [
    "metaresults = pd.DataFrame(columns=['patient','num_dose','num_ss','num_img', 'avg_airdose','avg_bodyair'])"
   ]
  },
  {
   "cell_type": "code",
   "execution_count": 6,
   "id": "5bd02a39-872d-4ed8-b263-b8d58409a3dd",
   "metadata": {},
   "outputs": [],
   "source": [
    "for patient in patients:\n",
    "    individual = results[results['Patient Folder'] == patient]\n",
    "    tempdict = {\n",
    "        'patient': patient,\n",
    "        'num_dose': individual['dosefile'].nunique(),\n",
    "        'num_ss': individual['ssfile'].nunique(),\n",
    "        'num_img': individual['imgfile'].nunique(),\n",
    "        'avg_airdose': individual['airdose_px'].mean(),\n",
    "        'avg_bodyair': individual['bodyair_%'].mean()\n",
    "    }\n",
    "    metaresults = metaresults.append(tempdict,ignore_index=True)"
   ]
  },
  {
   "cell_type": "code",
   "execution_count": 7,
   "id": "880c11e7-e6f5-4896-ad65-6be9e0d53871",
   "metadata": {},
   "outputs": [
    {
     "data": {
      "text/html": [
       "<div>\n",
       "<style scoped>\n",
       "    .dataframe tbody tr th:only-of-type {\n",
       "        vertical-align: middle;\n",
       "    }\n",
       "\n",
       "    .dataframe tbody tr th {\n",
       "        vertical-align: top;\n",
       "    }\n",
       "\n",
       "    .dataframe thead th {\n",
       "        text-align: right;\n",
       "    }\n",
       "</style>\n",
       "<table border=\"1\" class=\"dataframe\">\n",
       "  <thead>\n",
       "    <tr style=\"text-align: right;\">\n",
       "      <th></th>\n",
       "      <th>patient</th>\n",
       "      <th>num_dose</th>\n",
       "      <th>num_ss</th>\n",
       "      <th>num_img</th>\n",
       "      <th>avg_airdose</th>\n",
       "      <th>avg_bodyair</th>\n",
       "    </tr>\n",
       "  </thead>\n",
       "  <tbody>\n",
       "    <tr>\n",
       "      <th>0</th>\n",
       "      <td>017_051</td>\n",
       "      <td>0</td>\n",
       "      <td>0</td>\n",
       "      <td>0</td>\n",
       "      <td>NaN</td>\n",
       "      <td>NaN</td>\n",
       "    </tr>\n",
       "    <tr>\n",
       "      <th>1</th>\n",
       "      <td>017_052</td>\n",
       "      <td>0</td>\n",
       "      <td>0</td>\n",
       "      <td>0</td>\n",
       "      <td>NaN</td>\n",
       "      <td>NaN</td>\n",
       "    </tr>\n",
       "    <tr>\n",
       "      <th>2</th>\n",
       "      <td>017_053</td>\n",
       "      <td>0</td>\n",
       "      <td>0</td>\n",
       "      <td>0</td>\n",
       "      <td>NaN</td>\n",
       "      <td>NaN</td>\n",
       "    </tr>\n",
       "    <tr>\n",
       "      <th>3</th>\n",
       "      <td>017_054</td>\n",
       "      <td>0</td>\n",
       "      <td>0</td>\n",
       "      <td>0</td>\n",
       "      <td>NaN</td>\n",
       "      <td>NaN</td>\n",
       "    </tr>\n",
       "    <tr>\n",
       "      <th>4</th>\n",
       "      <td>017_055</td>\n",
       "      <td>0</td>\n",
       "      <td>0</td>\n",
       "      <td>0</td>\n",
       "      <td>NaN</td>\n",
       "      <td>NaN</td>\n",
       "    </tr>\n",
       "    <tr>\n",
       "      <th>...</th>\n",
       "      <td>...</td>\n",
       "      <td>...</td>\n",
       "      <td>...</td>\n",
       "      <td>...</td>\n",
       "      <td>...</td>\n",
       "      <td>...</td>\n",
       "    </tr>\n",
       "    <tr>\n",
       "      <th>224</th>\n",
       "      <td>018_128</td>\n",
       "      <td>3</td>\n",
       "      <td>1</td>\n",
       "      <td>189</td>\n",
       "      <td>196.357407</td>\n",
       "      <td>0.684711</td>\n",
       "    </tr>\n",
       "    <tr>\n",
       "      <th>225</th>\n",
       "      <td>018_129</td>\n",
       "      <td>3</td>\n",
       "      <td>1</td>\n",
       "      <td>193</td>\n",
       "      <td>64.556159</td>\n",
       "      <td>0.673973</td>\n",
       "    </tr>\n",
       "    <tr>\n",
       "      <th>226</th>\n",
       "      <td>018_130</td>\n",
       "      <td>2</td>\n",
       "      <td>1</td>\n",
       "      <td>193</td>\n",
       "      <td>356.571038</td>\n",
       "      <td>0.853454</td>\n",
       "    </tr>\n",
       "    <tr>\n",
       "      <th>227</th>\n",
       "      <td>018_131</td>\n",
       "      <td>2</td>\n",
       "      <td>1</td>\n",
       "      <td>193</td>\n",
       "      <td>293.904255</td>\n",
       "      <td>0.720691</td>\n",
       "    </tr>\n",
       "    <tr>\n",
       "      <th>228</th>\n",
       "      <td>018_132</td>\n",
       "      <td>2</td>\n",
       "      <td>1</td>\n",
       "      <td>189</td>\n",
       "      <td>135.634078</td>\n",
       "      <td>0.758808</td>\n",
       "    </tr>\n",
       "  </tbody>\n",
       "</table>\n",
       "<p>229 rows × 6 columns</p>\n",
       "</div>"
      ],
      "text/plain": [
       "     patient num_dose num_ss num_img  avg_airdose  avg_bodyair\n",
       "0    017_051        0      0       0          NaN          NaN\n",
       "1    017_052        0      0       0          NaN          NaN\n",
       "2    017_053        0      0       0          NaN          NaN\n",
       "3    017_054        0      0       0          NaN          NaN\n",
       "4    017_055        0      0       0          NaN          NaN\n",
       "..       ...      ...    ...     ...          ...          ...\n",
       "224  018_128        3      1     189   196.357407     0.684711\n",
       "225  018_129        3      1     193    64.556159     0.673973\n",
       "226  018_130        2      1     193   356.571038     0.853454\n",
       "227  018_131        2      1     193   293.904255     0.720691\n",
       "228  018_132        2      1     189   135.634078     0.758808\n",
       "\n",
       "[229 rows x 6 columns]"
      ]
     },
     "execution_count": 7,
     "metadata": {},
     "output_type": "execute_result"
    }
   ],
   "source": [
    "metaresults"
   ]
  },
  {
   "cell_type": "code",
   "execution_count": 8,
   "id": "b7a4798e-7f2c-4b27-8c55-fab126926fe2",
   "metadata": {},
   "outputs": [
    {
     "name": "stdout",
     "output_type": "stream",
     "text": [
      "121\n",
      "108\n"
     ]
    }
   ],
   "source": [
    "goodpatients = metaresults[(metaresults['avg_airdose'] < 1500)&(metaresults['avg_bodyair'] < 2)]\n",
    "needsreview = metaresults[~(metaresults['avg_airdose'] < 1500)|~(metaresults['avg_bodyair'] < 2)]\n",
    "print(len(goodpatients))\n",
    "print(len(needsreview))"
   ]
  },
  {
   "cell_type": "code",
   "execution_count": 9,
   "id": "45708768-5821-4679-8163-a8b61059d2ac",
   "metadata": {},
   "outputs": [],
   "source": [
    "needsreview.to_csv(\"needsreview2.csv\",index=False)\n",
    "goodpatients.to_csv(\"goodtogo2.csv\",index=False)"
   ]
  },
  {
   "cell_type": "code",
   "execution_count": null,
   "id": "0e004685-67c4-4fb8-8104-1c92848aa9d1",
   "metadata": {},
   "outputs": [],
   "source": []
  }
 ],
 "metadata": {
  "kernelspec": {
   "display_name": "Python 3 (ipykernel)",
   "language": "python",
   "name": "python3"
  },
  "language_info": {
   "codemirror_mode": {
    "name": "ipython",
    "version": 3
   },
   "file_extension": ".py",
   "mimetype": "text/x-python",
   "name": "python",
   "nbconvert_exporter": "python",
   "pygments_lexer": "ipython3",
   "version": "3.7.13"
  }
 },
 "nbformat": 4,
 "nbformat_minor": 5
}
