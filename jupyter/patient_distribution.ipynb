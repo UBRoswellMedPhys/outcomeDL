{
 "cells": [
  {
   "cell_type": "code",
   "execution_count": 1,
   "id": "9e5480fd-f036-40ad-9c50-8f4898d70eb1",
   "metadata": {},
   "outputs": [],
   "source": [
    "import pandas as pd\n",
    "\n",
    "import os"
   ]
  },
  {
   "cell_type": "code",
   "execution_count": 2,
   "id": "d6ca6315-0a6d-4f84-9dcf-d00735c53b93",
   "metadata": {},
   "outputs": [],
   "source": [
    "exclude = ['018_019','018_033','018_038','018_056','018_069','018_089',\n",
    "           '018_091','018_102','018_117','018_120',\n",
    "           '018_126','018_128','018_130','018_131',\n",
    "           'ANON_016','ANON_023','ANON_027','018_011']"
   ]
  },
  {
   "cell_type": "code",
   "execution_count": 29,
   "id": "c97c0ee7-b64d-4321-8600-38007925d167",
   "metadata": {},
   "outputs": [],
   "source": [
    "late_labels = pd.read_csv(r\"D:\\extracteddata\\latelabels.csv\")\n",
    "early_labels = pd.read_csv(r\"D:\\extracteddata\\newlabels.csv\")\n",
    "parentdircontents = os.listdir(r\"D:\\extracteddata\")\n",
    "patients = [x for x in parentdircontents if all((os.path.isdir(os.path.join(r\"D:\\extracteddata\",x)),x not in exclude))]\n",
    "ohe_patient_chars = pd.read_csv(r\"D:\\H_N\\ohe_patient_char.csv\")"
   ]
  },
  {
   "cell_type": "code",
   "execution_count": 30,
   "id": "343593e3-7fda-4ad1-a8aa-99d750c06aee",
   "metadata": {},
   "outputs": [],
   "source": [
    "labelmap = {}\n",
    "for i,row in late_labels.iterrows():\n",
    "    if row['OLDID'] not in labelmap.keys():\n",
    "        labelmap[row['OLDID']] = row['ID']\n",
    "for i,row in early_labels.iterrows():\n",
    "    if row['OLDID'] not in labelmap.keys():\n",
    "        labelmap[row['OLDID']] = row['ID']"
   ]
  },
  {
   "cell_type": "code",
   "execution_count": 31,
   "id": "0fed60e0-0730-42cb-aaf6-1d5188098599",
   "metadata": {},
   "outputs": [],
   "source": [
    "patients_new = [pt if pt not in labelmap.keys() else labelmap[pt] for pt in patients]"
   ]
  },
  {
   "cell_type": "code",
   "execution_count": 32,
   "id": "acb96ebe-84be-4a57-b03c-d8b7e964aa1a",
   "metadata": {},
   "outputs": [],
   "source": [
    "pt_status = pd.DataFrame(columns=['ID','have_pt_chars','have_label_early','have_label_late'])"
   ]
  },
  {
   "cell_type": "code",
   "execution_count": 33,
   "id": "92186bfe-45e0-4ddd-ab84-1a140dd2e598",
   "metadata": {},
   "outputs": [],
   "source": [
    "pt_status['ID'] = patients_new\n",
    "pt_status['have_pt_chars'] = pt_status['ID'].apply(lambda x: x in ohe_patient_chars['ANON_ID'].to_list())\n",
    "pt_status['have_label_early'] = pt_status['ID'].apply(lambda x: x in early_labels['ID'].to_list())\n",
    "pt_status['have_label_late'] = pt_status['ID'].apply(lambda x: x in late_labels['ID'].to_list())"
   ]
  },
  {
   "cell_type": "code",
   "execution_count": 34,
   "id": "e1a90e41-a52d-4645-9014-89e8d86def8f",
   "metadata": {},
   "outputs": [],
   "source": [
    "pt_status = pt_status.join(ohe_patient_chars.set_index(\"ANON_ID\"),on=\"ID\")"
   ]
  },
  {
   "cell_type": "code",
   "execution_count": 35,
   "id": "3ce041c1-baed-4913-a387-e58af4d1c4a3",
   "metadata": {},
   "outputs": [],
   "source": [
    "early = pt_status[(pt_status['have_pt_chars']==True)&(pt_status['have_label_early']==True)]\n",
    "late = pt_status[(pt_status['have_pt_chars']==True)&(pt_status['have_label_late']==True)]"
   ]
  },
  {
   "cell_type": "code",
   "execution_count": 36,
   "id": "aa9978e6-2a34-487d-8d71-56fac062aead",
   "metadata": {},
   "outputs": [],
   "source": [
    "early = early.set_index(\"ID\")\n",
    "late = late.set_index(\"ID\")"
   ]
  },
  {
   "cell_type": "code",
   "execution_count": 37,
   "id": "71ca9c85-5cfd-4662-8b83-7baf5f4f43b5",
   "metadata": {},
   "outputs": [],
   "source": [
    "early_labels = early_labels.set_index(\"ID\")\n",
    "late_labels = late_labels.set_index(\"ID\")"
   ]
  },
  {
   "cell_type": "code",
   "execution_count": 38,
   "id": "a295d859-b399-4454-8ea9-7e009007bb87",
   "metadata": {},
   "outputs": [],
   "source": [
    "early = early.join(early_labels,how=\"left\")\n",
    "late = late.join(late_labels,how=\"left\")"
   ]
  },
  {
   "cell_type": "code",
   "execution_count": 39,
   "id": "be9f7b1d-f468-4a4d-821a-3f4939e23d22",
   "metadata": {},
   "outputs": [
    {
     "name": "stdout",
     "output_type": "stream",
     "text": [
      "early 62 87\n",
      "late 32 74\n"
     ]
    }
   ],
   "source": [
    "print('early', early['label'].sum(),len(early))\n",
    "print('late',late['label'].sum(),len(late))"
   ]
  },
  {
   "cell_type": "code",
   "execution_count": 26,
   "id": "533a0198-af85-46e8-8cae-5fa8a348e2fa",
   "metadata": {},
   "outputs": [
    {
     "data": {
      "text/plain": [
       "Index(['have_pt_chars', 'have_label_early', 'have_label_late', 'gender_female',\n",
       "       'gender_male', 'race_am_indian_or_alaska_native', 'race_asian',\n",
       "       'race_blackaa', 'race_white', 'smoker_current', 'smoker_former',\n",
       "       'smoker_never', 't_stage_t0', 't_stage_t1', 't_stage_t1a',\n",
       "       't_stage_t1b', 't_stage_t1c', 't_stage_t2', 't_stage_t2a', 't_stage_t3',\n",
       "       't_stage_t3a', 't_stage_t3b', 't_stage_t4', 't_stage_t4a',\n",
       "       't_stage_t4b', 't_stage_tis', 't_stage_tx', 'n_stage_n0', 'n_stage_n1',\n",
       "       'n_stage_n2', 'n_stage_n2a', 'n_stage_n2b', 'n_stage_n2c', 'n_stage_n3',\n",
       "       'n_stage_nx', 'm_stage_m0', 'm_stage_m1', 'm_stage_mx', 'hpv_negative',\n",
       "       'hpv_positive', 'age'],\n",
       "      dtype='object')"
      ]
     },
     "execution_count": 26,
     "metadata": {},
     "output_type": "execute_result"
    }
   ],
   "source": [
    "early.columns"
   ]
  },
  {
   "cell_type": "code",
   "execution_count": null,
   "id": "db072377-2bbf-4809-84a2-0828a469a6a0",
   "metadata": {},
   "outputs": [],
   "source": []
  }
 ],
 "metadata": {
  "kernelspec": {
   "display_name": "Python 3 (ipykernel)",
   "language": "python",
   "name": "python3"
  },
  "language_info": {
   "codemirror_mode": {
    "name": "ipython",
    "version": 3
   },
   "file_extension": ".py",
   "mimetype": "text/x-python",
   "name": "python",
   "nbconvert_exporter": "python",
   "pygments_lexer": "ipython3",
   "version": "3.7.13"
  }
 },
 "nbformat": 4,
 "nbformat_minor": 5
}
