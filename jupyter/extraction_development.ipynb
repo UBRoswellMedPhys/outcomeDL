{
 "cells": [
  {
   "cell_type": "code",
   "execution_count": 1,
   "id": "94ca996e-960a-4f84-8062-acd0ab98f58a",
   "metadata": {},
   "outputs": [],
   "source": [
    "import sys\n",
    "sys.path.insert(0,\"F:\\\\repos\\\\phd\\\\src\")"
   ]
  },
  {
   "cell_type": "code",
   "execution_count": 2,
   "id": "f4b82e65-8073-4a3c-8a90-35806edc4f14",
   "metadata": {},
   "outputs": [],
   "source": [
    "import os\n",
    "import pydicom\n",
    "\n",
    "import matplotlib.pyplot as plt\n",
    "import numpy as np"
   ]
  },
  {
   "cell_type": "code",
   "execution_count": 3,
   "id": "dcaf90c3-57e5-4f24-83c4-f8d5efccdb94",
   "metadata": {},
   "outputs": [],
   "source": [
    "from outcomeDL.preprocessing import extract_arrays as ext\n",
    "from outcomeDL.preprocessing import _preprocess_util as util"
   ]
  },
  {
   "cell_type": "code",
   "execution_count": 4,
   "id": "cca4953a-677d-43b4-9e41-06fd3cd6fe36",
   "metadata": {
    "jupyter": {
     "source_hidden": true
    },
    "tags": []
   },
   "outputs": [],
   "source": [
    "def load_files(folder):\n",
    "    files = [os.path.join(folder,file) for file in os.listdir(folder) if file.endswith(\".dcm\")]\n",
    "    sorted_files = {}\n",
    "    for filepath in files:\n",
    "        dcm = pydicom.read_file(filepath)\n",
    "        m = dcm.Modality\n",
    "        if m not in sorted_files.keys():\n",
    "            sorted_files[m] = [dcm]\n",
    "        else:\n",
    "            sorted_files[m].append(dcm)\n",
    "    return sorted_files\n",
    "\n",
    "def all_one_study(filedict):\n",
    "    UID = []\n",
    "    for key in filedict.keys():\n",
    "        for file in filedict[key]:\n",
    "            UID.append(file.StudyInstanceUID)\n",
    "    UID = list(set(UID))\n",
    "    if len(UID) > 1:\n",
    "        clean = False\n",
    "    elif len(UID) == 1:\n",
    "        clean = True\n",
    "    return clean\n",
    "\n",
    "def correct_array_shapes(filelist):\n",
    "    \"\"\"\n",
    "    Function which trims arrays of non-uniform shape to largest common array (fits all arrays).\n",
    "    Requires that all arrays in the list have the same corner position (ImagePositionPatient attribute).\n",
    "    \n",
    "    Parameters\n",
    "    ----------\n",
    "    dosefilelist : list of DICOM files\n",
    "        List containing pydicom loaded DICOM objects.\n",
    "    \n",
    "    Returns\n",
    "    -------\n",
    "    dosefilelist : list of DICOM files\n",
    "        Same list, but with the files modified to be shape-compatible.\n",
    "    \"\"\"\n",
    "    if not same_position(filelist):\n",
    "        raise Exception(\"Files not corner-aligned, can't match them\")\n",
    "    # first find the smallest array - note that pixel_array.shape is structured as Z, Rows, Columns\n",
    "    min_row = np.inf\n",
    "    min_col = np.inf\n",
    "    min_z = np.inf\n",
    "    # first loop through all to find the min for each axis\n",
    "    for file in filelist:\n",
    "        z, rows, cols = file.pixel_array.shape\n",
    "        min_row = min(rows, min_row)\n",
    "        min_col = min(cols, min_col)\n",
    "        min_z = min(z, min_z)\n",
    "    # next restructure each array as needed\n",
    "    for file in filelist:\n",
    "        new_array = file.pixel_array\n",
    "        if file.pixel_array.shape[0] > min_z:\n",
    "            new_array = new_array[:min_z,:,:]\n",
    "            file.GridFrameOffsetVector = file.GridFrameOffsetVector[:min_z]\n",
    "        if file.pixel_array.shape[1] > min_row:\n",
    "            new_array = new_array[:,:min_row,:]\n",
    "            file.Rows = min_row\n",
    "        if file.pixel_array.shape[2] > min_col:\n",
    "            new_array = new_array[:,:,:min_col]\n",
    "            file.Columns = min_col\n",
    "        file.PixelData = new_array.tobytes()\n",
    "    return filelist\n",
    "        \n",
    "def same_position(dicom_list):\n",
    "    c,r,z = dicom_list[0].ImagePositionPatient\n",
    "    for obj in dicom_list:\n",
    "        tc, tr, tz = obj.ImagePositionPatient\n",
    "        if not all((tc == c, tr == r, tz == z)):\n",
    "            return False\n",
    "    return True"
   ]
  },
  {
   "cell_type": "code",
   "execution_count": 5,
   "id": "1c2d78e9-b9c5-4f83-ad47-dad271e8ec80",
   "metadata": {},
   "outputs": [],
   "source": [
    "badIDs = ['018_019','018_033','018_038','018_056','018_069','018_089',\n",
    "          '018_091','018_102','018_117','018_120',\n",
    "          '018_126','018_128','018_130','018_131',\n",
    "          'ANON_016','ANON_023','ANON_027','018_011']"
   ]
  },
  {
   "cell_type": "code",
   "execution_count": 6,
   "id": "b73aa349-e887-4246-b548-8c5f8d4a9380",
   "metadata": {},
   "outputs": [],
   "source": [
    "sourcedir = \"F:\\\\DICOMdata\\\\RoswellData\"\n",
    "#sourcedir = \"D:\\\\H_N\""
   ]
  },
  {
   "cell_type": "code",
   "execution_count": 12,
   "id": "812de7de-26f4-4335-b302-3fdfeafdae7b",
   "metadata": {},
   "outputs": [],
   "source": [
    "patientpath = os.path.join(sourcedir,'018_102')\n",
    "files = load_files(patientpath)"
   ]
  },
  {
   "cell_type": "code",
   "execution_count": 13,
   "id": "cebdc108-8886-47e9-b5c2-cccf3970c646",
   "metadata": {},
   "outputs": [],
   "source": [
    "imgarray, slicemap, imcorner = ext.prepare_image_array(files['CT'])\n",
    "dose, true_z, dosecorner = ext.prepare_dose_array(files['RTDOSE'])"
   ]
  },
  {
   "cell_type": "code",
   "execution_count": null,
   "id": "f4784c00-4050-4e2f-bffe-5b60d2776fba",
   "metadata": {},
   "outputs": [],
   "source": [
    "test = correct_array_shapes(files['RTDOSE'])"
   ]
  },
  {
   "cell_type": "code",
   "execution_count": null,
   "id": "4a6ad480-fdf3-458e-acfd-3a8485462303",
   "metadata": {},
   "outputs": [],
   "source": [
    "shapes = [file.pixel_array.shape for file in test]\n",
    "print(len(set(shapes)))"
   ]
  },
  {
   "cell_type": "code",
   "execution_count": null,
   "id": "11d9d6ec-84cd-4dad-91fa-c529868588ac",
   "metadata": {},
   "outputs": [],
   "source": [
    "len(files['RTDOSE'])"
   ]
  },
  {
   "cell_type": "code",
   "execution_count": null,
   "id": "2330da08-9a34-4d7e-b6b7-f6504c6815a5",
   "metadata": {},
   "outputs": [],
   "source": [
    "util.all_one_study(files)"
   ]
  },
  {
   "cell_type": "code",
   "execution_count": 15,
   "id": "73878fbf-144b-4726-9022-088e7d2ab4a3",
   "metadata": {},
   "outputs": [
    {
     "data": {
      "text/plain": [
       "[-250.6, -121.0]"
      ]
     },
     "execution_count": 15,
     "metadata": {},
     "output_type": "execute_result"
    }
   ],
   "source": [
    "dosecorner"
   ]
  },
  {
   "cell_type": "code",
   "execution_count": null,
   "id": "6fe5dd6e-cfe8-4c3f-83cb-2a9c76a1f3d4",
   "metadata": {},
   "outputs": [],
   "source": []
  }
 ],
 "metadata": {
  "kernelspec": {
   "display_name": "Python 3 (ipykernel)",
   "language": "python",
   "name": "python3"
  },
  "language_info": {
   "codemirror_mode": {
    "name": "ipython",
    "version": 3
   },
   "file_extension": ".py",
   "mimetype": "text/x-python",
   "name": "python",
   "nbconvert_exporter": "python",
   "pygments_lexer": "ipython3",
   "version": "3.7.13"
  }
 },
 "nbformat": 4,
 "nbformat_minor": 5
}
