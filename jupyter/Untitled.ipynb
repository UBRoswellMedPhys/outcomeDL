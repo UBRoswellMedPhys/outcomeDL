{
 "cells": [
  {
   "cell_type": "code",
   "execution_count": 9,
   "id": "94ca996e-960a-4f84-8062-acd0ab98f58a",
   "metadata": {},
   "outputs": [],
   "source": [
    "import sys\n",
    "sys.path.insert(0,\"F:\\repos\\phd\\main\")"
   ]
  },
  {
   "cell_type": "code",
   "execution_count": 11,
   "id": "111db28b-c027-4816-acb6-51c02bc7e0a1",
   "metadata": {},
   "outputs": [
    {
     "ename": "ModuleNotFoundError",
     "evalue": "No module named 'preprocessing'",
     "output_type": "error",
     "traceback": [
      "\u001b[1;31m---------------------------------------------------------------------------\u001b[0m",
      "\u001b[1;31mModuleNotFoundError\u001b[0m                       Traceback (most recent call last)",
      "\u001b[1;32m~\\AppData\\Local\\Temp\\ipykernel_294320\\3861785187.py\u001b[0m in \u001b[0;36m<module>\u001b[1;34m\u001b[0m\n\u001b[1;32m----> 1\u001b[1;33m \u001b[1;32mfrom\u001b[0m \u001b[0mpreprocessing\u001b[0m \u001b[1;32mimport\u001b[0m \u001b[0mextract_arrays\u001b[0m\u001b[1;33m\u001b[0m\u001b[1;33m\u001b[0m\u001b[0m\n\u001b[0m",
      "\u001b[1;31mModuleNotFoundError\u001b[0m: No module named 'preprocessing'"
     ]
    }
   ],
   "source": [
    "from preprocessing import extract_arrays"
   ]
  },
  {
   "cell_type": "code",
   "execution_count": 6,
   "id": "dcaf90c3-57e5-4f24-83c4-f8d5efccdb94",
   "metadata": {},
   "outputs": [
    {
     "data": {
      "text/plain": [
       "['F:\\repos\\\\phd\\\\main\\\\preprocessing',\n",
       " 'F:\\\\repos\\\\phd\\\\jupyter',\n",
       " 'C:\\\\Users\\\\johna\\\\anaconda3\\\\envs\\\\phd\\\\python37.zip',\n",
       " 'C:\\\\Users\\\\johna\\\\anaconda3\\\\envs\\\\phd\\\\DLLs',\n",
       " 'C:\\\\Users\\\\johna\\\\anaconda3\\\\envs\\\\phd\\\\lib',\n",
       " 'C:\\\\Users\\\\johna\\\\anaconda3\\\\envs\\\\phd',\n",
       " '',\n",
       " 'C:\\\\Users\\\\johna\\\\anaconda3\\\\envs\\\\phd\\\\lib\\\\site-packages',\n",
       " 'C:\\\\Users\\\\johna\\\\anaconda3\\\\envs\\\\phd\\\\lib\\\\site-packages\\\\win32',\n",
       " 'C:\\\\Users\\\\johna\\\\anaconda3\\\\envs\\\\phd\\\\lib\\\\site-packages\\\\win32\\\\lib',\n",
       " 'C:\\\\Users\\\\johna\\\\anaconda3\\\\envs\\\\phd\\\\lib\\\\site-packages\\\\Pythonwin',\n",
       " 'C:\\\\Users\\\\johna\\\\anaconda3\\\\envs\\\\phd\\\\lib\\\\site-packages\\\\IPython\\\\extensions',\n",
       " 'C:\\\\Users\\\\johna\\\\.ipython',\n",
       " 'F:\\repos\\\\phd\\\\main\\\\preprocessing']"
      ]
     },
     "execution_count": 6,
     "metadata": {},
     "output_type": "execute_result"
    }
   ],
   "source": [
    "sys.path"
   ]
  },
  {
   "cell_type": "code",
   "execution_count": null,
   "id": "1c2d78e9-b9c5-4f83-ad47-dad271e8ec80",
   "metadata": {},
   "outputs": [],
   "source": []
  }
 ],
 "metadata": {
  "kernelspec": {
   "display_name": "Python 3 (ipykernel)",
   "language": "python",
   "name": "python3"
  },
  "language_info": {
   "codemirror_mode": {
    "name": "ipython",
    "version": 3
   },
   "file_extension": ".py",
   "mimetype": "text/x-python",
   "name": "python",
   "nbconvert_exporter": "python",
   "pygments_lexer": "ipython3",
   "version": "3.7.13"
  }
 },
 "nbformat": 4,
 "nbformat_minor": 5
}
