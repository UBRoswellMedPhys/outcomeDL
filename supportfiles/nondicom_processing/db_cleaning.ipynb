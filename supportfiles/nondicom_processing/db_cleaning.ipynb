{
 "cells": [
  {
   "cell_type": "code",
   "execution_count": 1,
   "id": "a1077673-6906-4878-bff2-99fa1f138e01",
   "metadata": {},
   "outputs": [],
   "source": [
    "import pandas as pd"
   ]
  },
  {
   "cell_type": "code",
   "execution_count": 2,
   "id": "6ecee144-1e42-4031-a3fe-2bdade740a5d",
   "metadata": {},
   "outputs": [
    {
     "name": "stderr",
     "output_type": "stream",
     "text": [
      "C:\\Users\\johna\\anaconda3\\envs\\phd\\lib\\site-packages\\IPython\\core\\interactiveshell.py:3186: DtypeWarning: Columns (47,48,49,51,52,55,169,188,205,210,215,235,262,272,278,279,280,281,306) have mixed types.Specify dtype option on import or set low_memory=False.\n",
      "  interactivity=interactivity, compiler=compiler, result=result)\n"
     ]
    }
   ],
   "source": [
    "db = pd.read_csv(\"Full_HN_DB_deidentified.csv\")"
   ]
  },
  {
   "cell_type": "code",
   "execution_count": 5,
   "id": "1203e462-2fc3-4191-a42e-e488e025029f",
   "metadata": {},
   "outputs": [],
   "source": [
    "clean_db = db.copy(deep=True)"
   ]
  },
  {
   "cell_type": "code",
   "execution_count": 3,
   "id": "fd115468-6cde-41eb-91ec-5825e054e3e3",
   "metadata": {},
   "outputs": [
    {
     "data": {
      "text/plain": [
       "Index(['Previous or Other Current Cancer Diagnosis',\n",
       "       'Type of Cancer (choice=Lung)', 'Type of Cancer (choice=Colon/Rectum)',\n",
       "       'Type of Cancer (choice=Bladder)', 'Type of Cancer (choice=Prostate)',\n",
       "       'Type of Cancer (choice=Breast)',\n",
       "       'Type of Cancer (choice=Non-Hodgkin Lymphoma)',\n",
       "       'Type of Cancer (choice=Stomach)', 'Type of Cancer (choice=Liver)',\n",
       "       'Type of Cancer (choice=Kidney)', 'Type of Cancer (choice=Pancreas)',\n",
       "       'Type of Cancer (choice=Gastrointestinal)',\n",
       "       'Type of Cancer (choice=Leukemia)',\n",
       "       'Type of Cancer (choice=Lip/Oral Cavity)',\n",
       "       'Type of Cancer (choice=Larynx)', 'Type of Cancer (choice=Nasopharynx)',\n",
       "       'Type of Cancer (choice=Oropharynx)',\n",
       "       'Type of Cancer (choice=Hypopharynx)',\n",
       "       'Type of Cancer (choice=Thyroid)',\n",
       "       'Type of Cancer (choice=Head and Neck (no other specification))',\n",
       "       'Type of Cancer (choice=Brain/Nervous System)',\n",
       "       'Type of Cancer (choice=Endometrial)',\n",
       "       'Type of Cancer (choice=Cervical)', 'Type of Cancer (choice=Ovarian)',\n",
       "       'Type of Cancer (choice=Uterine)', 'Type of Cancer (choice=Melanoma)',\n",
       "       'Type of Cancer (choice=Skin, non-melanoma)',\n",
       "       'Type of Cancer (choice=Skin, NOS)',\n",
       "       'Type of Cancer (choice=Adrenal Gland)', 'Type of Cancer (choice=Bone)',\n",
       "       'Type of Cancer (choice=Esophageal)',\n",
       "       'Type of Cancer (choice=Lymphoma, NOS)',\n",
       "       'Type of Cancer (choice=Soft Tissue Sarcoma)',\n",
       "       'Type of Cancer (choice=Testicular)', 'Type of Cancer (choice=Vagina)',\n",
       "       'Type of Cancer (choice=Multiple Myeloma)',\n",
       "       'Type of Cancer (choice=Mesothelioma)', 'Type of Cancer (choice=Other)',\n",
       "       'Type of Cancer (choice=Unknown)', 'Other Previous Cancer'],\n",
       "      dtype='object')"
      ]
     },
     "execution_count": 3,
     "metadata": {},
     "output_type": "execute_result"
    }
   ],
   "source": [
    "db.columns[8:48]"
   ]
  },
  {
   "cell_type": "code",
   "execution_count": 7,
   "id": "7571905b-5c24-46d0-aadb-b86bd61e5891",
   "metadata": {},
   "outputs": [],
   "source": [
    "clean_db.insert(9,'Type of Cancer',None)"
   ]
  },
  {
   "cell_type": "code",
   "execution_count": 36,
   "id": "324109d3-adbf-48e4-bbcc-f2c980417918",
   "metadata": {},
   "outputs": [],
   "source": [
    "def compress(row):\n",
    "    response = False\n",
    "    to_return = None\n",
    "    for i,value in enumerate(row):\n",
    "        if value == \"Checked\" or value == \"Positive\":\n",
    "            if response is True:\n",
    "                to_return += \" | \" + row.index[i]\n",
    "            else:\n",
    "                response = True\n",
    "                to_return = row.index[i]\n",
    "    return to_return"
   ]
  },
  {
   "cell_type": "code",
   "execution_count": 16,
   "id": "7797b2d4-d82e-4914-80dd-ad4292ab2031",
   "metadata": {},
   "outputs": [],
   "source": [
    "clean_db['Type of Cancer'] = clean_db.iloc[:,9:49].apply(compress,axis=1)"
   ]
  },
  {
   "cell_type": "code",
   "execution_count": 25,
   "id": "e02b382f-a305-4058-9aa9-541aedaefe84",
   "metadata": {},
   "outputs": [],
   "source": [
    "clean_db = clean_db.drop(labels=clean_db.columns[10:49],axis=1)"
   ]
  },
  {
   "cell_type": "code",
   "execution_count": 28,
   "id": "6b512def-acee-493f-9aa3-358e882fb54e",
   "metadata": {},
   "outputs": [],
   "source": [
    "clean_db.insert(10,'HPV',None)"
   ]
  },
  {
   "cell_type": "code",
   "execution_count": 38,
   "id": "66df87d4-f827-4a7d-aa5b-5a9a693fddca",
   "metadata": {},
   "outputs": [
    {
     "data": {
      "text/plain": [
       "Index(['HPV', 'HPV Lip/Oral Cavity ', 'HPV Status Larynx',\n",
       "       'HPV Status Nasopharynx', 'HPV Status Oropharynx',\n",
       "       'HPV Status Hypopharynx', 'HPV Status Cervical ', 'HPV Status Vagina',\n",
       "       'Other HPV status', 'Anticoagulants/antiplatelets '],\n",
       "      dtype='object')"
      ]
     },
     "execution_count": 38,
     "metadata": {},
     "output_type": "execute_result"
    }
   ],
   "source": [
    "clean_db.columns[10:20]"
   ]
  },
  {
   "cell_type": "code",
   "execution_count": 39,
   "id": "65cbe992-ad94-44ca-b983-06a8a3270600",
   "metadata": {},
   "outputs": [],
   "source": [
    "clean_db['HPV'] = clean_db.iloc[:,11:19].apply(compress,axis=1)\n",
    "clean_db = clean_db.drop(labels=clean_db.columns[11:19],axis=1)"
   ]
  },
  {
   "cell_type": "code",
   "execution_count": 44,
   "id": "77e103d1-389f-4cc5-a967-fc48fa6854df",
   "metadata": {},
   "outputs": [
    {
     "data": {
      "text/plain": [
       "Index(['Respiratory System (choice=None)',\n",
       "       'Respiratory System (choice=Asthma)',\n",
       "       'Respiratory System (choice=Tuberculosis)',\n",
       "       'Respiratory System (choice=Chronic Cough)',\n",
       "       'Respiratory System (choice=Chronic Sinus Infection)',\n",
       "       'Respiratory System (choice=Chronic Obstructive Pulmonary Disease (COPD))',\n",
       "       'Respiratory System (choice=Asbestos Related Disease)',\n",
       "       'Respiratory System (choice=Screened for Lung Cancer)',\n",
       "       'Respiratory System (choice=Other)',\n",
       "       'Other Respiratory System Condition'],\n",
       "      dtype='object')"
      ]
     },
     "execution_count": 44,
     "metadata": {},
     "output_type": "execute_result"
    }
   ],
   "source": [
    "clean_db.columns[20:30]"
   ]
  },
  {
   "cell_type": "code",
   "execution_count": 47,
   "id": "ffe2bb02-e23c-4953-a1d1-f4d2bdf29d74",
   "metadata": {},
   "outputs": [],
   "source": [
    "clean_db.insert(20,\"Respiratory\",None)\n",
    "clean_db['Respiratory'] = clean_db.iloc[:,21:30].apply(compress,axis=1)\n",
    "clean_db = clean_db.drop(labels=clean_db.columns[21:31],axis=1)"
   ]
  },
  {
   "cell_type": "code",
   "execution_count": 51,
   "id": "a92016a6-f5de-4674-afd9-d4a565ea70e9",
   "metadata": {},
   "outputs": [
    {
     "data": {
      "text/plain": [
       "Index(['Nervous System (choice=None)', 'Nervous System (choice=Epilepsy)',\n",
       "       'Nervous System (choice=Depression)',\n",
       "       'Nervous System (choice=Nervous disorder)',\n",
       "       'Nervous System (choice=Anxiety)', 'Nervous System (choice=Glaucoma)',\n",
       "       'Nervous System (choice=Seizure disorder)',\n",
       "       'Nervous System (choice=Other)', 'Other Nervous System Condition'],\n",
       "      dtype='object')"
      ]
     },
     "execution_count": 51,
     "metadata": {},
     "output_type": "execute_result"
    }
   ],
   "source": [
    "clean_db.columns[21:30]"
   ]
  },
  {
   "cell_type": "code",
   "execution_count": 52,
   "id": "3e8dc2df-379e-45e9-9e7f-051e48ae5820",
   "metadata": {},
   "outputs": [],
   "source": [
    "clean_db.insert(21,\"Nervous System\",None)\n",
    "clean_db['Nervous System'] = clean_db.iloc[:,22:31].apply(compress,axis=1)\n",
    "clean_db = clean_db.drop(labels=clean_db.columns[22:31],axis=1)"
   ]
  },
  {
   "cell_type": "code",
   "execution_count": 54,
   "id": "ae101a45-9b6e-4f4a-9593-99e66b8cc9d6",
   "metadata": {},
   "outputs": [
    {
     "data": {
      "text/plain": [
       "Index(['Immune System (choice=None)', 'Immune System (choice=Lupus)',\n",
       "       'Immune System (choice=Sjogrens disease)',\n",
       "       'Immune System (choice=Rheumatic fever)',\n",
       "       'Immune System (choice=Lichen planus)',\n",
       "       'Immune System (choice=Pemphigus)',\n",
       "       'Immune System (choice=Rheumatid arthiritis)',\n",
       "       'Immune System (choice=Other)', 'Other Immune System '],\n",
       "      dtype='object')"
      ]
     },
     "execution_count": 54,
     "metadata": {},
     "output_type": "execute_result"
    }
   ],
   "source": [
    "clean_db.columns[22:31]"
   ]
  },
  {
   "cell_type": "code",
   "execution_count": 55,
   "id": "e9b55993-10f3-43f4-acbe-eaa80dcc491a",
   "metadata": {},
   "outputs": [],
   "source": [
    "clean_db.insert(22,\"Immune System\",None)\n",
    "clean_db['Immune System'] = clean_db.iloc[:,23:32].apply(compress,axis=1)\n",
    "clean_db = clean_db.drop(labels=clean_db.columns[23:32],axis=1)"
   ]
  },
  {
   "cell_type": "code",
   "execution_count": 57,
   "id": "cf9c78c2-5b0b-4997-8479-23fa17097b0f",
   "metadata": {},
   "outputs": [
    {
     "data": {
      "text/plain": [
       "Index(['Endocrine Problems  (choice=None)',\n",
       "       'Endocrine Problems  (choice=Hypothyroid)',\n",
       "       'Endocrine Problems  (choice=Hyperthyroid)',\n",
       "       'Endocrine Problems  (choice=Goiter)',\n",
       "       'Endocrine Problems  (choice=Thyroid cancer)',\n",
       "       'Endocrine Problems  (choice=Diabetes)',\n",
       "       'Endocrine Problems  (choice=Other)'],\n",
       "      dtype='object')"
      ]
     },
     "execution_count": 57,
     "metadata": {},
     "output_type": "execute_result"
    }
   ],
   "source": [
    "clean_db.columns[23:30]"
   ]
  },
  {
   "cell_type": "code",
   "execution_count": 58,
   "id": "6c5c6cb3-6031-4972-a769-af1c2e363213",
   "metadata": {},
   "outputs": [],
   "source": [
    "clean_db.insert(23,\"Endocrine\",None)\n",
    "clean_db['Endocrine'] = clean_db.iloc[:,24:31].apply(compress,axis=1)\n",
    "clean_db = clean_db.drop(labels=clean_db.columns[24:31],axis=1)"
   ]
  },
  {
   "cell_type": "code",
   "execution_count": 61,
   "id": "efcd93cb-a4cc-4304-8f39-a3cb521aed33",
   "metadata": {},
   "outputs": [],
   "source": [
    "clean_db = clean_db.drop(labels=clean_db.columns[24:26],axis=1)"
   ]
  },
  {
   "cell_type": "code",
   "execution_count": 66,
   "id": "d63e2edc-7787-4bc4-9ec3-f692030af202",
   "metadata": {},
   "outputs": [
    {
     "data": {
      "text/plain": [
       "Index(['Cardiovascular System  (choice=None)',\n",
       "       'Cardiovascular System  (choice=Heart attack)',\n",
       "       'Cardiovascular System  (choice=Hepatitis)',\n",
       "       'Cardiovascular System  (choice=Mitral valve prolapse)',\n",
       "       'Cardiovascular System  (choice=Heart murmur)',\n",
       "       'Cardiovascular System  (choice=Prosthetic heart valves)',\n",
       "       'Cardiovascular System  (choice=Angina)',\n",
       "       'Cardiovascular System  (choice=Chest pain)',\n",
       "       'Cardiovascular System  (choice=High blood pressure)',\n",
       "       'Cardiovascular System  (choice=Low blood pressure)',\n",
       "       'Cardiovascular System  (choice=Anemia)',\n",
       "       'Cardiovascular System  (choice=Low iron)',\n",
       "       'Cardiovascular System  (choice=Stroke)',\n",
       "       'Cardiovascular System  (choice=Clots)',\n",
       "       'Cardiovascular System  (choice=Blood borne infectious disease)',\n",
       "       'Cardiovascular System  (choice=Coronary artery disease)',\n",
       "       'Cardiovascular System  (choice=Hyperlipidemia)',\n",
       "       'Cardiovascular System  (choice=Other)',\n",
       "       'Other Cardiovascular System '],\n",
       "      dtype='object')"
      ]
     },
     "execution_count": 66,
     "metadata": {},
     "output_type": "execute_result"
    }
   ],
   "source": [
    "clean_db.columns[24:43]"
   ]
  },
  {
   "cell_type": "code",
   "execution_count": 67,
   "id": "86c282d9-ea8d-47ac-9921-9a89e0365bdb",
   "metadata": {},
   "outputs": [],
   "source": [
    "clean_db.insert(24,\"Cardiovascular\",None)\n",
    "clean_db['Cardiovascular'] = clean_db.iloc[:,25:44].apply(compress,axis=1)\n",
    "clean_db = clean_db.drop(labels=clean_db.columns[25:44],axis=1)"
   ]
  },
  {
   "cell_type": "code",
   "execution_count": 71,
   "id": "d53bdd9b-7500-48aa-aac4-c9cff4a59464",
   "metadata": {},
   "outputs": [
    {
     "data": {
      "text/plain": [
       "Index(['Digestive System  (choice=None)',\n",
       "       'Digestive System  (choice=Hepatitis)',\n",
       "       'Digestive System  (choice=Jaundice)',\n",
       "       'Digestive System  (choice=Liver transplant)',\n",
       "       'Digestive System  (choice=Ulcer)',\n",
       "       'Digestive System  (choice=Reflux disease)',\n",
       "       'Digestive System  (choice=Gastro esophageal reflux disease (GERD))',\n",
       "       'Digestive System  (choice=Other)', 'Other Digestive System '],\n",
       "      dtype='object')"
      ]
     },
     "execution_count": 71,
     "metadata": {},
     "output_type": "execute_result"
    }
   ],
   "source": [
    "clean_db.columns[25:34]"
   ]
  },
  {
   "cell_type": "code",
   "execution_count": 72,
   "id": "ffd15f1c-9014-4b2a-ada0-cddfc692399f",
   "metadata": {},
   "outputs": [],
   "source": [
    "clean_db.insert(25,\"Digestive\",None)\n",
    "clean_db['Digestive'] = clean_db.iloc[:,26:35].apply(compress,axis=1)\n",
    "clean_db = clean_db.drop(labels=clean_db.columns[26:35],axis=1)"
   ]
  },
  {
   "cell_type": "code",
   "execution_count": 81,
   "id": "ba39fa51-bc81-44ad-af50-f645715e27b0",
   "metadata": {},
   "outputs": [
    {
     "data": {
      "text/plain": [
       "Index(['Type  (choice=Squamous Cell Carcinoma)',\n",
       "       'Type  (choice=Adenoid Cystic Carcinoma)',\n",
       "       'Type  (choice=Adenocarcinoma)',\n",
       "       'Type  (choice=Mucoepidermoid Carcinoma)', 'Type  (choice=Melanoma)',\n",
       "       'Type  (choice=Olfactory Neuroblastoma)', 'Type  (choice=Lymphoma)',\n",
       "       'Type  (choice=Small Cell Neuroendocrine)', 'Type  (choice=Other)',\n",
       "       'Other Type'],\n",
       "      dtype='object')"
      ]
     },
     "execution_count": 81,
     "metadata": {},
     "output_type": "execute_result"
    }
   ],
   "source": [
    "clean_db.columns[37:47]"
   ]
  },
  {
   "cell_type": "code",
   "execution_count": 82,
   "id": "8ac81a69-9bb7-45f5-8240-260540ac348e",
   "metadata": {},
   "outputs": [],
   "source": [
    "clean_db.insert(37,\"Type\",None)\n",
    "clean_db['Type'] = clean_db.iloc[:,38:48].apply(compress,axis=1)\n",
    "clean_db = clean_db.drop(labels=clean_db.columns[38:48],axis=1)"
   ]
  },
  {
   "cell_type": "code",
   "execution_count": 86,
   "id": "13ca6216-b02d-4f64-a505-dce8d83c9476",
   "metadata": {},
   "outputs": [
    {
     "data": {
      "text/plain": [
       "Index(['Disease Site  (choice=Lip and Oral Cavity)',\n",
       "       'Disease Site  (choice=Pharynx)', 'Disease Site  (choice=Larynx)',\n",
       "       'Disease Site  (choice=Nasal Cavity and Paranasal Sinuses)',\n",
       "       'Disease Site  (choice=Major Salivary Glands)',\n",
       "       'Disease Site  (choice=Thyroid Gland)',\n",
       "       'Disease Site  (choice=Pituitary Gland)',\n",
       "       'Disease Site  (choice=Scalp)', 'Disease Site  (choice=Posterior neck)',\n",
       "       'Disease Site  (choice=Anterior neck)',\n",
       "       'Disease Site  (choice=Lateral neck)', 'Disease Site  (choice=Nose)',\n",
       "       'Disease Site  (choice=Eyelid)', 'Disease Site  (choice=Ear)',\n",
       "       'Disease Site  (choice=Upper face)',\n",
       "       'Disease Site  (choice=Lower face)', 'Disease Site  (choice=Face NOS)',\n",
       "       'Disease Site  (choice=Other)', 'Other Disease Site'],\n",
       "      dtype='object')"
      ]
     },
     "execution_count": 86,
     "metadata": {},
     "output_type": "execute_result"
    }
   ],
   "source": [
    "clean_db.columns[38:57]"
   ]
  },
  {
   "cell_type": "code",
   "execution_count": 87,
   "id": "589e47e9-ad1b-4ed4-903c-f26a7be5bad9",
   "metadata": {},
   "outputs": [],
   "source": [
    "clean_db.insert(38,\"Disease Site\",None)\n",
    "clean_db['Disease Site'] = clean_db.iloc[:,39:58].apply(compress,axis=1)\n",
    "clean_db = clean_db.drop(labels=clean_db.columns[39:58],axis=1)"
   ]
  },
  {
   "cell_type": "code",
   "execution_count": 90,
   "id": "8dcc41f7-c316-4b6c-a5ae-c56c52cd2dcb",
   "metadata": {},
   "outputs": [
    {
     "data": {
      "text/plain": [
       "Index(['Metastatic Disease Site (choice=Lip and Oral Cavity)',\n",
       "       'Metastatic Disease Site (choice=Pharynx)',\n",
       "       'Metastatic Disease Site (choice=Larynx)',\n",
       "       'Metastatic Disease Site (choice=Nasal Cavity and Paranasal Sinuses)',\n",
       "       'Metastatic Disease Site (choice=Major Salivary Glands)',\n",
       "       'Metastatic Disease Site (choice=Thyroid Gland)',\n",
       "       'Metastatic Disease Site (choice=Pituitary Gland)',\n",
       "       'Metastatic Disease Site (choice=Scalp)',\n",
       "       'Metastatic Disease Site (choice=Posterior neck)',\n",
       "       'Metastatic Disease Site (choice=Anterior neck)',\n",
       "       'Metastatic Disease Site (choice=Lateral neck)',\n",
       "       'Metastatic Disease Site (choice=Nose)',\n",
       "       'Metastatic Disease Site (choice=Eyelid)',\n",
       "       'Metastatic Disease Site (choice=Ear)',\n",
       "       'Metastatic Disease Site (choice=Lung)',\n",
       "       'Metastatic Disease Site (choice=Liver)',\n",
       "       'Metastatic Disease Site (choice=Bone)',\n",
       "       'Metastatic Disease Site (choice=Other)', 'Other metastatic site '],\n",
       "      dtype='object')"
      ]
     },
     "execution_count": 90,
     "metadata": {},
     "output_type": "execute_result"
    }
   ],
   "source": [
    "clean_db.columns[39:58]"
   ]
  },
  {
   "cell_type": "code",
   "execution_count": 91,
   "id": "8df04c98-1b4e-4600-9582-8dee23cd6e24",
   "metadata": {},
   "outputs": [],
   "source": [
    "clean_db.insert(39,\"Metastatic Disease Site\",None)\n",
    "clean_db['Metastatic Disease Site'] = clean_db.iloc[:,40:59].apply(compress,axis=1)\n",
    "clean_db = clean_db.drop(labels=clean_db.columns[40:59],axis=1)"
   ]
  },
  {
   "cell_type": "code",
   "execution_count": 97,
   "id": "eb44ed7a-4545-4c7d-89dc-8723253984da",
   "metadata": {},
   "outputs": [
    {
     "data": {
      "text/plain": [
       "Index(['Subsite  (choice=Lip)', 'Subsite  (choice=Oral Cavity)',\n",
       "       'Subsite  (choice=Nasopharynx)', 'Subsite  (choice=Oropharynx)',\n",
       "       'Subsite  (choice=Hypopharynx)', 'Subsite  (choice=Supraglottis)',\n",
       "       'Subsite  (choice=Glottis)', 'Subsite  (choice=Subglottis)',\n",
       "       'Subsite  (choice=Maxillary Sinus)',\n",
       "       'Subsite  (choice=Nasal Cavity and Ethmoid Sinus)',\n",
       "       'Subsite  (choice=Parotid Gland)',\n",
       "       'Subsite  (choice=Submandibular Gland)',\n",
       "       'Subsite  (choice=Sublingual Gland)'],\n",
       "      dtype='object')"
      ]
     },
     "execution_count": 97,
     "metadata": {},
     "output_type": "execute_result"
    }
   ],
   "source": [
    "clean_db.columns[40:53]"
   ]
  },
  {
   "cell_type": "code",
   "execution_count": 98,
   "id": "83e355a1-0505-48c5-8e3b-077ecd56b005",
   "metadata": {},
   "outputs": [],
   "source": [
    "clean_db.insert(40,\"Subsite\",None)\n",
    "clean_db['Subsite'] = clean_db.iloc[:,41:54].apply(compress,axis=1)\n",
    "clean_db = clean_db.drop(labels=clean_db.columns[41:54],axis=1)"
   ]
  },
  {
   "cell_type": "code",
   "execution_count": 100,
   "id": "1ffb8919-3be9-41d7-a09c-ac0bf87ca292",
   "metadata": {},
   "outputs": [
    {
     "data": {
      "text/plain": [
       "Index(['Supraglottic Subsite (choice=False Vocal Chord)',\n",
       "       'Supraglottic Subsite (choice=Epiglottis)',\n",
       "       'Supraglottic Subsite (choice=Other)', 'Other Supraglottic Subsite'],\n",
       "      dtype='object')"
      ]
     },
     "execution_count": 100,
     "metadata": {},
     "output_type": "execute_result"
    }
   ],
   "source": [
    "clean_db.columns[41:45]"
   ]
  },
  {
   "cell_type": "code",
   "execution_count": 101,
   "id": "0ddef8dc-ba66-46d0-b123-8c1136bbdd00",
   "metadata": {},
   "outputs": [],
   "source": [
    "clean_db.insert(41,\"Supraglottic Subsite\",None)\n",
    "clean_db['Supraglottic Subsite'] = clean_db.iloc[:,42:46].apply(compress,axis=1)\n",
    "clean_db = clean_db.drop(labels=clean_db.columns[42:46],axis=1)"
   ]
  },
  {
   "cell_type": "code",
   "execution_count": 106,
   "id": "c6e423ae-3cc7-4241-85bc-356683ae30c3",
   "metadata": {},
   "outputs": [
    {
     "data": {
      "text/plain": [
       "Index(['Oropharynx Subsite  (choice=Base of Tongue)',\n",
       "       'Oropharynx Subsite  (choice=Tonsil)',\n",
       "       'Oropharynx Subsite  (choice=Oropharygeal Wall)',\n",
       "       'Oropharynx Subsite  (choice=Other)', 'Other Oropharynx Subsite '],\n",
       "      dtype='object')"
      ]
     },
     "execution_count": 106,
     "metadata": {},
     "output_type": "execute_result"
    }
   ],
   "source": [
    "clean_db.columns[42:47]"
   ]
  },
  {
   "cell_type": "code",
   "execution_count": 107,
   "id": "62858c5f-16c3-4b61-ae8c-194625d9435d",
   "metadata": {},
   "outputs": [],
   "source": [
    "clean_db.insert(42,\"Oropharynx Subsite\",None)\n",
    "clean_db['Oropharynx Subsite'] = clean_db.iloc[:,43:48].apply(compress,axis=1)\n",
    "clean_db = clean_db.drop(labels=clean_db.columns[43:48],axis=1)"
   ]
  },
  {
   "cell_type": "code",
   "execution_count": 112,
   "id": "7e777b3f-28ce-42dc-a1bd-1af2570f7679",
   "metadata": {},
   "outputs": [
    {
     "data": {
      "text/plain": [
       "Index(['Induction Chemotherapy Type (choice=Cisplatin)',\n",
       "       'Induction Chemotherapy Type (choice=Cetuximab)',\n",
       "       'Induction Chemotherapy Type (choice=Paclitaxel)',\n",
       "       'Induction Chemotherapy Type (choice=5-FU)',\n",
       "       'Induction Chemotherapy Type (choice=Carboplatin)',\n",
       "       'Induction Chemotherapy Type (choice=Docetaxel)',\n",
       "       'Induction Chemotherapy Type (choice=Methotrexate)',\n",
       "       'Induction Chemotherapy Type (choice=Gemcitabine)',\n",
       "       'Induction Chemotherapy Type (choice=Other)',\n",
       "       'Other Induction Chemotherapy '],\n",
       "      dtype='object')"
      ]
     },
     "execution_count": 112,
     "metadata": {},
     "output_type": "execute_result"
    }
   ],
   "source": [
    "clean_db.columns[68:78]"
   ]
  },
  {
   "cell_type": "code",
   "execution_count": 113,
   "id": "0bb7cdbf-c581-4341-b9f4-7ae80f696752",
   "metadata": {},
   "outputs": [],
   "source": [
    "clean_db.insert(68,\"Induction Chemo Type\",None)\n",
    "clean_db['Induction Chemo Type'] = clean_db.iloc[:,69:79].apply(compress,axis=1)\n",
    "clean_db = clean_db.drop(labels=clean_db.columns[69:79],axis=1)"
   ]
  },
  {
   "cell_type": "code",
   "execution_count": 115,
   "id": "9b45951d-896a-4e64-88f1-653d0c9547bc",
   "metadata": {},
   "outputs": [
    {
     "data": {
      "text/plain": [
       "Index(['Primary Chemotherapy Type (choice=Cisplatin)',\n",
       "       'Primary Chemotherapy Type (choice=Cetuximab)',\n",
       "       'Primary Chemotherapy Type (choice=Paclitaxel)',\n",
       "       'Primary Chemotherapy Type (choice=5-FU)',\n",
       "       'Primary Chemotherapy Type (choice=Carboplatin)',\n",
       "       'Primary Chemotherapy Type (choice=Docetaxel)',\n",
       "       'Primary Chemotherapy Type (choice=Methotrexate)',\n",
       "       'Primary Chemotherapy Type (choice=Gemcitabine)',\n",
       "       'Primary Chemotherapy Type (choice=Other)',\n",
       "       'Other Primary Chemotherapy'],\n",
       "      dtype='object')"
      ]
     },
     "execution_count": 115,
     "metadata": {},
     "output_type": "execute_result"
    }
   ],
   "source": [
    "clean_db.columns[69:79]"
   ]
  },
  {
   "cell_type": "code",
   "execution_count": 116,
   "id": "df9d21c1-394c-47bd-bac9-9033b22a33d4",
   "metadata": {},
   "outputs": [],
   "source": [
    "clean_db.insert(69,\"Primary Chemo Type\",None)\n",
    "clean_db['Primary Chemo Type'] = clean_db.iloc[:,70:80].apply(compress,axis=1)\n",
    "clean_db = clean_db.drop(labels=clean_db.columns[70:80],axis=1)"
   ]
  },
  {
   "cell_type": "code",
   "execution_count": 123,
   "id": "f39c1b4f-1fea-41f6-a367-9a88904be974",
   "metadata": {},
   "outputs": [
    {
     "data": {
      "text/plain": [
       "Index(['Surgery Type (choice=Primary)', 'Surgery Type (choice=Salvage)',\n",
       "       'Surgery Type (choice=Initial Neck Dissection)',\n",
       "       'Surgery Type (choice=Salvage Neck Dissection)',\n",
       "       'Surgery Type (choice=Palliative)',\n",
       "       'Surgery Type (choice=Reconstructive)', 'Surgery Type (choice=Other)',\n",
       "       'Other Surgery Type'],\n",
       "      dtype='object')"
      ]
     },
     "execution_count": 123,
     "metadata": {},
     "output_type": "execute_result"
    }
   ],
   "source": [
    "clean_db.columns[79:87]"
   ]
  },
  {
   "cell_type": "code",
   "execution_count": 124,
   "id": "24132bf5-7b37-4c45-9669-d3f28bb88f4f",
   "metadata": {},
   "outputs": [],
   "source": [
    "clean_db.insert(79,\"Surgery Type\",None)\n",
    "clean_db['Surgery Type'] = clean_db.iloc[:,80:88].apply(compress,axis=1)\n",
    "clean_db = clean_db.drop(labels=clean_db.columns[80:88],axis=1)"
   ]
  },
  {
   "cell_type": "code",
   "execution_count": 132,
   "id": "902b69d8-4e22-4c7b-8bf0-dae3ea6909b2",
   "metadata": {},
   "outputs": [
    {
     "data": {
      "text/plain": [
       "Index(['Nutrition Support', 'Type of Nutrition Support (choice=Feeding Tube)',\n",
       "       'Type of Nutrition Support (choice=TPN)',\n",
       "       'Type of Nutrition Support (choice=Oral)',\n",
       "       'Type of Nutrition Support (choice=Other)', 'Other Nutrition Support'],\n",
       "      dtype='object')"
      ]
     },
     "execution_count": 132,
     "metadata": {},
     "output_type": "execute_result"
    }
   ],
   "source": [
    "clean_db.columns[80:86]"
   ]
  },
  {
   "cell_type": "code",
   "execution_count": 133,
   "id": "19fcfcba-156d-42fa-ad7b-90a4963b2544",
   "metadata": {},
   "outputs": [],
   "source": [
    "clean_db.insert(81,\"Nutrition Support Type\",None)\n",
    "clean_db['Nutrition Support Type'] = clean_db.iloc[:,82:87].apply(compress,axis=1)\n",
    "clean_db = clean_db.drop(labels=clean_db.columns[82:87],axis=1)"
   ]
  },
  {
   "cell_type": "code",
   "execution_count": 149,
   "id": "92996c21-ca21-4b09-bef8-1d768601c2bf",
   "metadata": {},
   "outputs": [],
   "source": [
    "clean_db['ANON_ID'] = clean_db['ANON_ID'].fillna(\"interpolate\")\n",
    "for i, row in clean_db.iterrows():\n",
    "    if row['ANON_ID'] == \"interpolate\":\n",
    "        clean_db.iat[i,0] = clean_db.iat[i-1,0]"
   ]
  },
  {
   "cell_type": "code",
   "execution_count": 151,
   "id": "3fd6bbe6-33df-4467-89c6-f30f323f82ad",
   "metadata": {},
   "outputs": [],
   "source": [
    "clean_db.to_csv(\"cleaned_db.csv\",index=False)"
   ]
  },
  {
   "cell_type": "code",
   "execution_count": 193,
   "id": "c55332eb-6646-41f6-89ff-8070af7d362d",
   "metadata": {},
   "outputs": [],
   "source": [
    "db_v2 = pd.DataFrame(index=clean_db.index,columns=[])"
   ]
  },
  {
   "cell_type": "code",
   "execution_count": 194,
   "id": "cc3bd4ca-cbd7-4b34-a2d3-187e30f1cc25",
   "metadata": {},
   "outputs": [],
   "source": [
    "for col in clean_db.columns:\n",
    "    values = clean_db[col].values\n",
    "    max_length = 1\n",
    "    for val in values:\n",
    "        if not isinstance(val, str):\n",
    "            continue\n",
    "        entries = val.split('|')\n",
    "        if len(entries) > max_length:\n",
    "            max_length = len(entries)\n",
    "    if max_length > 1:\n",
    "        for i in range(1,max_length+1):\n",
    "            db_v2[col+\"_{}\".format(i)] = None\n",
    "        for i,val in enumerate(values):\n",
    "            try:\n",
    "                entries = val.split('|')\n",
    "            except AttributeError:\n",
    "                entries = [val]\n",
    "            for j,x in enumerate(entries):\n",
    "                db_v2.loc[i,col+\"_{}\".format(j+1)] = x\n",
    "    else:\n",
    "        db_v2[col] = values\n",
    "            "
   ]
  },
  {
   "cell_type": "code",
   "execution_count": 197,
   "id": "4b54bc44-d203-4cb1-bad7-af0f5074c3a3",
   "metadata": {},
   "outputs": [],
   "source": [
    "for col in db_v2.columns:\n",
    "    db_v2[col] = db_v2[col].apply(lambda x: x.split(\"choice=\")[-1].strip().strip(\")\") if isinstance(x, str) else x)"
   ]
  },
  {
   "cell_type": "code",
   "execution_count": 199,
   "id": "1e0de57f-9352-420d-8f8a-e8d3b81a137d",
   "metadata": {},
   "outputs": [],
   "source": [
    "db_v2.to_csv(\"clean_readable_db.csv\",index=False)"
   ]
  },
  {
   "cell_type": "code",
   "execution_count": 200,
   "id": "3eca3637-f52e-443f-b464-ff58a8620726",
   "metadata": {},
   "outputs": [
    {
     "name": "stdout",
     "output_type": "stream",
     "text": [
      "Endocrine_1\n",
      "Endocrine_2\n",
      "Endocrine_3\n"
     ]
    }
   ],
   "source": [
    "for col in db_v2.columns:\n",
    "    if \"Endocrine\" in col:\n",
    "        print(col)"
   ]
  },
  {
   "cell_type": "code",
   "execution_count": null,
   "id": "d304e700-3bbd-4f1a-8db5-6fde56c8c6c0",
   "metadata": {},
   "outputs": [],
   "source": []
  }
 ],
 "metadata": {
  "kernelspec": {
   "display_name": "Python 3 (ipykernel)",
   "language": "python",
   "name": "python3"
  },
  "language_info": {
   "codemirror_mode": {
    "name": "ipython",
    "version": 3
   },
   "file_extension": ".py",
   "mimetype": "text/x-python",
   "name": "python",
   "nbconvert_exporter": "python",
   "pygments_lexer": "ipython3",
   "version": "3.7.13"
  }
 },
 "nbformat": 4,
 "nbformat_minor": 5
}
